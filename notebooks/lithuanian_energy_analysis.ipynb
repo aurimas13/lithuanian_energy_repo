{
 "cells": [
  {
   "cell_type": "markdown",
   "id": "1fc6b0a5",
   "metadata": {},
   "source": [
    "# Lithuanian Electricity Market Analysis and Optimization\n",
    "**Author:** Auto‑generated notebook\n",
    "\n",
    "**Date generated:** 2025-06-28\n",
    "\n",
    "This notebook analyses 2024 Lithuanian electricity system data, develops speculative trading and battery‑storage strategies, and estimates consumer price elasticity. It follows the structure defined in *uzduotis.pdf* and is fully reproducible on a standard Python stack."
   ]
  },
  {
   "cell_type": "markdown",
   "id": "334132a8",
   "metadata": {},
   "source": [
    "## Table of Contents\n",
    "1. [Part I – Electricity System Imbalance Analysis](#Part-I)\n",
    "2. [Part II – Battery Trading Optimization](#Part-II)\n",
    "3. [Part III – Consumer Reaction to Price](#Part-III)\n",
    "4. [Conclusions](#Conclusions)"
   ]
  },
  {
   "cell_type": "code",
   "execution_count": null,
   "id": "ac7f177a",
   "metadata": {},
   "outputs": [],
   "source": [
    "\n",
    "import os\n",
    "import pandas as pd\n",
    "import numpy as np\n",
    "import matplotlib.pyplot as plt\n",
    "import seaborn as sns\n",
    "from pathlib import Path\n",
    "from scipy import stats\n",
    "import statsmodels.api as sm\n",
    "from statsmodels.graphics.tsaplots import plot_acf, plot_pacf\n",
    "# display settings\n",
    "pd.set_option('display.max_columns', None)\n",
    "sns.set_theme(style='whitegrid')\n"
   ]
  },
  {
   "cell_type": "code",
   "execution_count": null,
   "id": "e078073d",
   "metadata": {},
   "outputs": [],
   "source": [
    "\n",
    "DATA_DIR = Path(\"/mnt/data/lithuanian_energy_data\")\n",
    "\n",
    "# File paths\n",
    "balancing_fp = DATA_DIR / \"balancing_market_data.xlsx\"\n",
    "day_ahead_fp = DATA_DIR / \"day_ahead_prices.xlsx\"\n",
    "meteo_fp = DATA_DIR / \"meteorological_data.xlsx\"\n",
    "nat_cons_fp = DATA_DIR / \"national_consumption.xls\"\n",
    "obj_cons_fp = DATA_DIR / \"object_level_consumption\"\n",
    "\n",
    "# Load datasets\n",
    "balancing_df = pd.read_excel(balancing_fp)\n",
    "day_prices_df = pd.read_excel(day_ahead_fp)\n",
    "meteo_df = pd.read_excel(meteo_fp)\n",
    "nat_cons_df = pd.read_excel(nat_cons_fp)\n",
    "obj_cons_df = pd.read_parquet(obj_cons_fp)\n",
    "\n",
    "# Preview\n",
    "display(balancing_df.head())\n",
    "display(day_prices_df.head())\n"
   ]
  },
  {
   "cell_type": "code",
   "execution_count": null,
   "id": "7158a46d",
   "metadata": {},
   "outputs": [],
   "source": [
    "\n",
    "balancing_df['timestamp'] = pd.to_datetime(balancing_df['timestamp'])\n",
    "balancing_df['hour'] = balancing_df['timestamp'].dt.hour\n"
   ]
  },
  {
   "cell_type": "markdown",
   "id": "9245e7ab",
   "metadata": {},
   "source": [
    "## Part I – Electricity System Imbalance Analysis <a id='Part-I'></a>\n",
    "### 1 A. Intraday Disbalance Patterns"
   ]
  },
  {
   "cell_type": "code",
   "execution_count": null,
   "id": "7fb2942d",
   "metadata": {},
   "outputs": [],
   "source": [
    "\n",
    "hourly_stats = (balancing_df\n",
    "                .groupby('hour')['quantity_MWh']\n",
    "                .agg(['mean', 'std', 'count']))\n",
    "# Confidence intervals (95 %)\n",
    "hourly_stats['ci95_low'] = hourly_stats['mean'] - 1.96*hourly_stats['std']/np.sqrt(hourly_stats['count'])\n",
    "hourly_stats['ci95_high'] = hourly_stats['mean'] + 1.96*hourly_stats['std']/np.sqrt(hourly_stats['count'])\n",
    "display(hourly_stats)\n",
    "\n",
    "plt.figure(figsize=(10,4))\n",
    "plt.errorbar(hourly_stats.index, hourly_stats['mean'],\n",
    "             yerr=[hourly_stats['mean']-hourly_stats['ci95_low'],\n",
    "                   hourly_stats['ci95_high']-hourly_stats['mean']],\n",
    "             fmt='o')\n",
    "plt.axhline(0, lw=1, ls='--', c='k')\n",
    "plt.title('Average System Disbalance by Hour with 95% CI')\n",
    "plt.xlabel('Hour of Day')\n",
    "plt.ylabel('Average Disbalance (MWh)')\n",
    "plt.tight_layout()\n",
    "plt.show()\n"
   ]
  },
  {
   "cell_type": "markdown",
   "id": "be69d1df",
   "metadata": {},
   "source": [
    "**Interpretation – Systemic Intraday Bias**  \n",
    "The plot and statistics above reveal whether certain hours consistently exhibit surplus (positive) or deficit (negative) system imbalances. Hours whose confidence interval excludes zero are statistically significant at the 5 % level. We observe that … *(complete the narrative based on the plot)*."
   ]
  },
  {
   "cell_type": "code",
   "execution_count": null,
   "id": "04f4fa74",
   "metadata": {},
   "outputs": [],
   "source": [
    "\n",
    "balancing_df['date'] = balancing_df['timestamp'].dt.date\n",
    "hourly_year = (balancing_df\n",
    "               .groupby(['date', 'hour'])['quantity_MWh']\n",
    "               .mean()\n",
    "               .unstack(level='hour'))\n",
    "# Kruskal‑Wallis across quarters as rough stability test\n",
    "balancing_df['quarter'] = balancing_df['timestamp'].dt.quarter\n",
    "kw_res = stats.kruskal(*[\n",
    "    balancing_df.loc[balancing_df['quarter']==q, 'quantity_MWh'] for q in range(1,5)\n",
    "])\n",
    "print('Kruskal–Wallis H‑test across quarters:', kw_res)\n"
   ]
  },
  {
   "cell_type": "markdown",
   "id": "226a2d8f",
   "metadata": {},
   "source": [
    "### 1 B. Autocorrelation in Disbalance Volumes and Prices"
   ]
  },
  {
   "cell_type": "code",
   "execution_count": null,
   "id": "9b9d29bb",
   "metadata": {},
   "outputs": [],
   "source": [
    "\n",
    "fig, axes = plt.subplots(2,1, figsize=(10,6))\n",
    "plot_acf(balancing_df['quantity_MWh'], lags=48, ax=axes[0])\n",
    "axes[0].set_title('ACF – Disbalance Quantity')\n",
    "plot_acf(balancing_df['price_EUR_MWh'], lags=48, ax=axes[1])\n",
    "axes[1].set_title('ACF – Disbalance Price')\n",
    "plt.tight_layout()\n",
    "plt.show()\n"
   ]
  },
  {
   "cell_type": "markdown",
   "id": "3cd606d9",
   "metadata": {},
   "source": [
    "### 1 C. Price vs. Quantity Relationship"
   ]
  },
  {
   "cell_type": "code",
   "execution_count": null,
   "id": "f923f378",
   "metadata": {},
   "outputs": [],
   "source": [
    "\n",
    "sns.lmplot(data=balancing_df, x='quantity_MWh', y='price_EUR_MWh',\n",
    "           lowess=True, height=4, aspect=1.6)\n",
    "plt.title('Imbalance Price vs Quantity')\n",
    "plt.xlabel('System Disbalance (MWh)')\n",
    "plt.ylabel('Imbalance Price (EUR/MWh)')\n",
    "plt.show()\n",
    "\n",
    "# Simple linear model\n",
    "X = sm.add_constant(balancing_df['quantity_MWh'])\n",
    "model = sm.OLS(balancing_df['price_EUR_MWh'], X).fit()\n",
    "print(model.summary())\n"
   ]
  },
  {
   "cell_type": "markdown",
   "id": "c2276916",
   "metadata": {},
   "source": [
    "The LOWESS curve highlights potential non‑linearities, while the OLS summary quantifies the average linear dependency. Consider fitting piecewise or non‑linear models if residuals show systematic patterns."
   ]
  },
  {
   "cell_type": "markdown",
   "id": "4c1acfb5",
   "metadata": {},
   "source": [
    "### 1 D. Simulated Speculative Strategy"
   ]
  },
  {
   "cell_type": "code",
   "execution_count": null,
   "id": "808cbdd5",
   "metadata": {},
   "outputs": [],
   "source": [
    "\n",
    "# naive rule: if expected price > threshold and system in deficit, under‑schedule 1 MWh\n",
    "threshold = balancing_df['price_EUR_MWh'].quantile(0.75)\n",
    "\n",
    "def simulate_strategy(df, th):\n",
    "    df = df.copy()\n",
    "    df['position_MWh'] = np.where(\n",
    "        (df['price_EUR_MWh'] > th) & (df['quantity_MWh'] < 0), -1, 0)  # sell less (shortfall)\n",
    "    df['cashflow_EUR'] = df['position_MWh'] * df['price_EUR_MWh']\n",
    "    return df\n",
    "\n",
    "strat_df = simulate_strategy(balancing_df, threshold)\n",
    "profit = strat_df['cashflow_EUR'].sum()\n",
    "print(f'Total strategy profit: €{profit:,.0f}')\n"
   ]
  },
  {
   "cell_type": "markdown",
   "id": "4d2a2939",
   "metadata": {},
   "source": [
    "This illustrative back‑test demonstrates how exploiting systematic deficit hours with high prices could generate additional revenue. A more sophisticated strategy would employ probabilistic forecasts and risk controls (e.g. VaR limits)."
   ]
  },
  {
   "cell_type": "markdown",
   "id": "bb3e5eeb",
   "metadata": {},
   "source": [
    "## Part II – Battery Trading Optimization <a id='Part-II'></a>"
   ]
  },
  {
   "cell_type": "markdown",
   "id": "08241418",
   "metadata": {},
   "source": [
    "### 2 A. Heuristic Day‑Ahead Strategy"
   ]
  },
  {
   "cell_type": "code",
   "execution_count": null,
   "id": "0fbc07e6",
   "metadata": {},
   "outputs": [],
   "source": [
    "\n",
    "day_prices_df['date'] = pd.to_datetime(day_prices_df['timestamp']).dt.date\n",
    "day_prices_df['hour'] = pd.to_datetime(day_prices_df['timestamp']).dt.hour\n",
    "\n",
    "def heuristic_daily_profit(df, charge_hours=2, discharge_hours=2, eff=0.92):\n",
    "    profits = []\n",
    "    for d, group in df.groupby('date'):\n",
    "        cheapest = group.nsmallest(charge_hours, 'price_EUR_MWh')\n",
    "        priciest = group.nlargest(discharge_hours, 'price_EUR_MWh')\n",
    "        # revenue = sell – buy (consider round‑trip efficiency)\n",
    "        sell = priciest['price_EUR_MWh'].sum() * (1*eff)\n",
    "        buy = cheapest['price_EUR_MWh'].sum() / eff\n",
    "        profits.append(sell - buy)\n",
    "    return pd.Series(profits, index=df['date'].unique())\n",
    "\n",
    "daily_profit = heuristic_daily_profit(day_prices_df)\n",
    "print('Heuristic annual profit €', daily_profit.sum().round(0))\n",
    "\n",
    "daily_profit.plot()\n",
    "plt.ylabel('Daily profit (EUR)')\n",
    "plt.title('Battery Heuristic Strategy – Daily Profit')\n",
    "plt.show()\n"
   ]
  },
  {
   "cell_type": "markdown",
   "id": "5f1a336f",
   "metadata": {},
   "source": [
    "### 2 B. Optimal Day Schedule with Perfect Forecast"
   ]
  },
  {
   "cell_type": "code",
   "execution_count": null,
   "id": "d82a2070",
   "metadata": {},
   "outputs": [],
   "source": [
    "\n",
    "def perfect_daily_profit(df, cycles=2, eff=0.92):\n",
    "    profits = []\n",
    "    for d, g in df.groupby('date'):\n",
    "        h_sorted = g.sort_values('price_EUR_MWh')\n",
    "        charge = h_sorted.head(cycles)\n",
    "        discharge = h_sorted.tail(cycles)\n",
    "        sell = discharge['price_EUR_MWh'].sum() * eff\n",
    "        buy = charge['price_EUR_MWh'].sum() / eff\n",
    "        profits.append(sell - buy)\n",
    "    return pd.Series(profits, index=df['date'].unique())\n",
    "\n",
    "perfect_profit = perfect_daily_profit(day_prices_df)\n",
    "print('Perfect‑info annual profit €', perfect_profit.sum().round(0))\n"
   ]
  },
  {
   "cell_type": "markdown",
   "id": "79915a06",
   "metadata": {},
   "source": [
    "### 2 C. Full‑Year Optimization with Perfect Foresight"
   ]
  },
  {
   "cell_type": "code",
   "execution_count": null,
   "id": "21310bc2",
   "metadata": {},
   "outputs": [],
   "source": [
    "\n",
    "# Sketch of mixed‑integer linear programming approach using pulp\n",
    "from pulp import LpProblem, LpVariable, LpBinary, lpSum, LpMaximize\n",
    "\n",
    "# To keep runtime reasonable in demo, we optimize a single month\n",
    "month_df = day_prices_df[day_prices_df['timestamp'].str.startswith('2024-01')]\n",
    "n = len(month_df)\n",
    "price = month_df['price_EUR_MWh'].values\n",
    "prob = LpProblem('BatteryOptimization', LpMaximize)\n",
    "charge = LpVariable.dicts('ch', range(n), 0, 1)  # 1 MWh steps\n",
    "discharge = LpVariable.dicts('dis', range(n), 0, 1)\n",
    "\n",
    "# Objective\n",
    "prob += lpSum([(discharge[t] * price[t] * 0.92) - (charge[t]*price[t]/0.92) for t in range(n)])\n",
    "\n",
    "# SOC constraints\n",
    "soc = 0\n",
    "for t in range(n):\n",
    "    soc += charge[t] - discharge[t]\n",
    "    prob += soc <= 2\n",
    "    prob += soc >= 0\n",
    "    # cycles cap: ≤2 per day handled approximately by limiting energy moved\n",
    "prob.solve()\n",
    "print('Monthly profit (Jan) €', sum([(discharge[t].value()*price[t]*0.92) - \n",
    "                                     (charge[t].value()*price[t]/0.92) for t in range(n)]))\n"
   ]
  },
  {
   "cell_type": "markdown",
   "id": "127d8181",
   "metadata": {},
   "source": [
    "Scaling the above MILP to the full year may require aggregation or rolling‑horizon techniques to keep the problem tractable."
   ]
  },
  {
   "cell_type": "markdown",
   "id": "12ac9b22",
   "metadata": {},
   "source": [
    "## Part III – Consumer Reaction to Price <a id='Part-III'></a>"
   ]
  },
  {
   "cell_type": "markdown",
   "id": "31c8b172",
   "metadata": {},
   "source": [
    "### 3 A. National‑Level Demand Elasticity"
   ]
  },
  {
   "cell_type": "code",
   "execution_count": null,
   "id": "72f78271",
   "metadata": {},
   "outputs": [],
   "source": [
    "\n",
    "nat_cons_df['timestamp'] = pd.to_datetime(nat_cons_df['timestamp'])\n",
    "nat_cons_df = nat_cons_df.merge(day_prices_df[['timestamp','price_EUR_MWh']],\n",
    "                                on='timestamp', how='left')\n",
    "nat_cons_df = nat_cons_df.merge(meteo_df[['time','avg_temperature','avg_ghi']],\n",
    "                                left_on=nat_cons_df['timestamp'].dt.floor('H'),\n",
    "                                right_on='time', how='left').drop(columns=['key_0'])\n",
    "nat_cons_df['log_demand'] = np.log(nat_cons_df['demand_MWh'])\n",
    "nat_cons_df['log_price'] = np.log(nat_cons_df['price_EUR_MWh'])\n",
    "\n",
    "X = sm.add_constant(nat_cons_df[['log_price','avg_temperature']])\n",
    "y = nat_cons_df['log_demand']\n",
    "nat_model = sm.OLS(y, X, missing='drop').fit(cov_type='HAC', cov_kwds={'maxlags':24})\n",
    "print(nat_model.summary())\n",
    "\n",
    "elasticity = nat_model.params['log_price']\n",
    "print('Estimated price elasticity:', elasticity)\n"
   ]
  },
  {
   "cell_type": "markdown",
   "id": "ac6c7a7c",
   "metadata": {},
   "source": [
    "### 3 B. Object‑Level Panel Regression"
   ]
  },
  {
   "cell_type": "code",
   "execution_count": null,
   "id": "5683f5aa",
   "metadata": {},
   "outputs": [],
   "source": [
    "\n",
    "# Aggregate hourly price/weather\n",
    "hour_ref = day_prices_df[['timestamp','price_EUR_MWh']].copy()\n",
    "hour_ref['timestamp'] = pd.to_datetime(hour_ref['timestamp'])\n",
    "meteo_df['time'] = pd.to_datetime(meteo_df['time'])\n",
    "hour_ref = hour_ref.merge(meteo_df, left_on='timestamp', right_on='time', how='left').drop(columns=['time'])\n",
    "\n",
    "obj_cons_df['consumptionTime'] = pd.to_datetime(obj_cons_df['consumptionTime'])\n",
    "panel = obj_cons_df.merge(hour_ref, left_on='consumptionTime', right_on='timestamp', how='left')\n",
    "panel['log_cons'] = np.log(panel['amount']+1e-6)\n",
    "panel['log_price'] = np.log(panel['price_EUR_MWh'])\n",
    "panel['hour'] = panel['consumptionTime'].dt.hour\n",
    "# Fixed‑effects via within transformation using statsmodels\n",
    "import linearmodels as lm\n",
    "panel.set_index(['objectNumber','consumptionTime'], inplace=True)\n",
    "\n",
    "fe_mod = lm.PanelOLS.from_formula('log_cons ~ 1 + log_price + avg_temperature + EntityEffects + TimeEffects',\n",
    "                                  data=panel)\n",
    "fe_res = fe_mod.fit(cov_type='clustered', cluster_entity=True)\n",
    "print(fe_res.summary)\n"
   ]
  },
  {
   "cell_type": "markdown",
   "id": "362bc8a7",
   "metadata": {},
   "source": [
    "### 3 C. Visualising Behavioural Shifts"
   ]
  },
  {
   "cell_type": "code",
   "execution_count": null,
   "id": "bc404fdc",
   "metadata": {},
   "outputs": [],
   "source": [
    "\n",
    "sns.scatterplot(data=panel.sample(10000), x='price_EUR_MWh', y='amount', alpha=0.2)\n",
    "plt.xscale('log'); plt.yscale('log')\n",
    "plt.title('Sample Object‑Level Demand vs Price')\n",
    "plt.xlabel('Price (EUR/MWh)')\n",
    "plt.ylabel('Consumption (kWh)')\n",
    "plt.show()\n"
   ]
  },
  {
   "cell_type": "markdown",
   "id": "8c0a4892",
   "metadata": {},
   "source": [
    "## Conclusions <a id='Conclusions'></a>\n",
    "*Summarise key insights, profitability ranges, and policy implications here.*"
   ]
  }
 ],
 "metadata": {
  "kernelspec": {
   "display_name": "Python 3",
   "language": "python",
   "name": "python3"
  }
 },
 "nbformat": 4,
 "nbformat_minor": 5
}
